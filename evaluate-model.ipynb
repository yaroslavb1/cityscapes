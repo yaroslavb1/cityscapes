{
 "cells": [
  {
   "cell_type": "code",
   "execution_count": 1,
   "metadata": {},
   "outputs": [],
   "source": [
    "import os\n",
    "os.environ['CUDA_VISIBLE_DEVICES'] = '1'\n",
    "results_folder = 'results'\n",
    "os.environ['CITYSCAPES_RESULTS'] = results_folder\n",
    "os.environ['CITYSCAPES_DATASET'] = 'data/gtFine_trainvaltest'\n"
   ]
  },
  {
   "cell_type": "code",
   "execution_count": 2,
   "metadata": {},
   "outputs": [],
   "source": [
    "import numpy as np\n",
    "from PIL import Image\n",
    "\n",
    "from generator import CityScapesGenerator\n",
    "\n",
    "import cityscapesScripts.cityscapesscripts.helpers.labels as labels\n"
   ]
  },
  {
   "cell_type": "code",
   "execution_count": 26,
   "metadata": {},
   "outputs": [],
   "source": [
    "from model_residual_v2 import create_model\n",
    "model = create_model((1024, 2048, 3), width=16, depth=15)\n",
    "model.load_weights('model_residual_v2_16_15_50ep.h5')\n",
    "# model.load_weights('model_residual_v2_16_15_50ep_myloss.h5')\n",
    "# model.load_weights('model_residual_v2_16_15_50ep_mylossgamma2.h5')"
   ]
  },
  {
   "cell_type": "code",
   "execution_count": 22,
   "metadata": {},
   "outputs": [],
   "source": [
    "from model_residual import create_model\n",
    "model = create_model((1024, 2048, 3), width=64, depth=9)\n",
    "model.load_weights('models/model_residual_64_9.h5')"
   ]
  },
  {
   "cell_type": "code",
   "execution_count": 23,
   "metadata": {},
   "outputs": [],
   "source": [
    "def post_process(pred):\n",
    "    trn_ids = np.argmax(pred, axis=-1)\n",
    "    ids = np.vectorize(lambda x: labels.trainId2label[x].id)(trn_ids)\n",
    "    return ids\n",
    "\n",
    "def save_pred(pred, filename):\n",
    "    colors = [lbl.color for lbl in labels.labels]\n",
    "    colors = np.array(colors).astype('uint8')\n",
    "    img = Image.fromarray(pred.astype('uint8'))\n",
    "    img.putpalette(colors)\n",
    "    img.save(filename)"
   ]
  },
  {
   "cell_type": "code",
   "execution_count": 27,
   "metadata": {},
   "outputs": [
    {
     "name": "stdout",
     "output_type": "stream",
     "text": [
      "499\r"
     ]
    }
   ],
   "source": [
    "!rm -r $results_folder\n",
    "!mkdir $results_folder\n",
    "\n",
    "gen = CityScapesGenerator('val', dir_='data', augment=False, shuffle=False)\n",
    "for i in range(len(gen)):\n",
    "    print(i, end='\\r')\n",
    "    path = gen.imgs[i]\n",
    "    out_path = os.path.join(results_folder, path.split('/')[-1])\n",
    "    pred = model.predict(gen[i])[0]\n",
    "    pred = post_process(pred)\n",
    "    save_pred(pred, out_path)\n"
   ]
  },
  {
   "cell_type": "code",
   "execution_count": 8,
   "metadata": {},
   "outputs": [],
   "source": []
  },
  {
   "cell_type": "code",
   "execution_count": null,
   "metadata": {},
   "outputs": [],
   "source": [
    "# model_residual_v2, 16 width, 15 depth\n",
    "# 1st one: 49.5 mIoU  (focal loss)\n",
    "# 2nd one: 38.0 mIoU  (my loss)\n",
    "# 3rd one: 34.5 mIoU  (my focal loss)\n",
    "\n",
    "# model_residual, 64 width, 9 depth\n",
    "# 49.2 mIoU  (focal loss)"
   ]
  },
  {
   "cell_type": "code",
   "execution_count": 28,
   "metadata": {},
   "outputs": [
    {
     "name": "stdout",
     "output_type": "stream",
     "text": [
      "Evaluating 500 pairs of images...\n",
      "Images Processed: 500 \n",
      "\n",
      "\b-------------- ------ ------ ------ ------ ------ ------ ------ ------ ------ ------ ------ ------ ------ ------ ------ ------ ------ ------ ------ ------ ------ ------ ------ ------ ------ ------ ------ ------ ------ ------ ------ ------ ------ ------ ------- \n",
      "\b              |  u   |  e   |  r   |  o   |  s   |  d   |  g   |  r   |  s   |  p   |  r   |  b   |  w   |  f   |  g   |  b   |  t   |  p   |  p   |  t   |  t   |  v   |  t   |  s   |  p   |  r   |  c   |  t   |  b   |  c   |  t   |  t   |  m   |  b   | Prior |\n",
      "\b-------------- ------ ------ ------ ------ ------ ------ ------ ------ ------ ------ ------ ------ ------ ------ ------ ------ ------ ------ ------ ------ ------ ------ ------ ------ ------ ------ ------ ------ ------ ------ ------ ------ ------ ------ ------- \n",
      "\b    unlabeled | 0.00   0.00   0.00   0.00   0.00   0.00   0.00   0.00   0.00   0.00   0.00   0.09   0.00   0.00   0.00   0.00   0.00   0.01   0.00   0.00   0.00   0.02   0.00   0.87   0.00   0.00   0.00   0.00   0.00   0.00   0.00   0.00   0.00   0.00  0.0004 \n",
      "\b  ego vehicle | 0.00   0.00   0.00   0.00   0.00   0.00   0.00   0.89   0.01   0.00   0.00   0.02   0.00   0.00   0.00   0.00   0.00   0.00   0.00   0.00   0.00   0.00   0.00   0.00   0.01   0.00   0.07   0.00   0.00   0.00   0.00   0.00   0.00   0.00  0.0490 \n",
      "\brectification | 0.00   0.00   0.00   0.00   0.00   0.00   0.00   0.53   0.00   0.00   0.00   0.26   0.00   0.02   0.00   0.00   0.00   0.00   0.00   0.01   0.00   0.04   0.00   0.02   0.01   0.00   0.08   0.00   0.01   0.00   0.00   0.00   0.00   0.00  0.0189 \n",
      "\b   out of roi | 0.00   0.00   0.00   0.00   0.00   0.00   0.00   0.33   0.04   0.00   0.00   0.28   0.00   0.01   0.00   0.00   0.00   0.01   0.00   0.01   0.00   0.15   0.00   0.07   0.01   0.00   0.08   0.00   0.00   0.00   0.00   0.00   0.00   0.00  0.0151 \n",
      "\b       static | 0.00   0.00   0.00   0.00   0.00   0.00   0.00   0.01   0.03   0.00   0.00   0.53   0.04   0.06   0.00   0.00   0.00   0.05   0.00   0.01   0.04   0.10   0.00   0.01   0.03   0.00   0.05   0.01   0.00   0.00   0.00   0.00   0.00   0.03  0.0149 \n",
      "\b      dynamic | 0.00   0.00   0.00   0.00   0.00   0.00   0.00   0.02   0.04   0.00   0.00   0.49   0.01   0.06   0.00   0.00   0.00   0.02   0.00   0.00   0.01   0.03   0.00   0.01   0.12   0.01   0.07   0.01   0.01   0.00   0.00   0.01   0.01   0.08  0.0042 \n",
      "\b       ground | 0.00   0.00   0.00   0.00   0.00   0.00   0.00   0.66   0.15   0.00   0.00   0.01   0.00   0.00   0.00   0.00   0.00   0.00   0.00   0.00   0.00   0.02   0.03   0.00   0.00   0.00   0.08   0.00   0.01   0.00   0.00   0.02   0.00   0.00  0.0178 \n",
      "\b         road | 0.00   0.00   0.00   0.00   0.00   0.00   0.00   0.97   0.02   0.00   0.00   0.00   0.00   0.00   0.00   0.00   0.00   0.00   0.00   0.00   0.00   0.00   0.00   0.00   0.00   0.00   0.01   0.00   0.00   0.00   0.00   0.00   0.00   0.00  0.3293 \n",
      "\b     sidewalk | 0.00   0.00   0.00   0.00   0.00   0.00   0.00   0.20   0.72   0.00   0.00   0.02   0.00   0.00   0.00   0.00   0.00   0.00   0.00   0.00   0.00   0.00   0.01   0.00   0.01   0.00   0.01   0.00   0.00   0.00   0.00   0.00   0.00   0.01  0.0473 \n",
      "\b      parking | 0.00   0.00   0.00   0.00   0.00   0.00   0.00   0.70   0.17   0.00   0.00   0.00   0.00   0.00   0.00   0.00   0.00   0.00   0.00   0.00   0.00   0.00   0.01   0.00   0.00   0.00   0.10   0.00   0.00   0.00   0.00   0.01   0.00   0.00  0.0040 \n",
      "\b   rail track | 0.00   0.00   0.00   0.00   0.00   0.00   0.00   0.62   0.26   0.00   0.00   0.00   0.03   0.01   0.00   0.00   0.00   0.00   0.00   0.00   0.00   0.00   0.03   0.00   0.00   0.00   0.04   0.00   0.00   0.00   0.00   0.00   0.00   0.00  0.0006 \n",
      "\b     building | 0.00   0.00   0.00   0.00   0.00   0.00   0.00   0.00   0.00   0.00   0.00   0.92   0.00   0.01   0.00   0.00   0.00   0.01   0.00   0.00   0.00   0.03   0.00   0.01   0.00   0.00   0.01   0.00   0.00   0.00   0.00   0.01   0.00   0.00  0.1917 \n",
      "\b         wall | 0.00   0.00   0.00   0.00   0.00   0.00   0.00   0.09   0.10   0.00   0.00   0.19   0.30   0.10   0.00   0.00   0.00   0.01   0.00   0.00   0.00   0.05   0.01   0.00   0.07   0.00   0.06   0.00   0.01   0.00   0.00   0.00   0.00   0.01  0.0064 \n",
      "\b        fence | 0.00   0.00   0.00   0.00   0.00   0.00   0.00   0.00   0.03   0.00   0.00   0.31   0.05   0.45   0.00   0.00   0.00   0.03   0.00   0.00   0.00   0.06   0.00   0.00   0.01   0.00   0.02   0.01   0.00   0.00   0.00   0.00   0.00   0.02  0.0072 \n",
      "\b   guard rail | 0.00   0.00   0.00   0.00   0.00   0.00   0.00   0.00   0.00   0.00   0.00   0.00   0.00   0.00   0.00   0.00   0.00   0.00   0.00   0.00   0.00   0.00   0.00   0.00   0.00   0.00   1.00   0.00   0.00   0.00   0.00   0.00   0.00   0.00  0.0000 \n",
      "\b       bridge | 0.00   0.00   0.00   0.00   0.00   0.00   0.00   0.00   0.00   0.00   0.00   0.79   0.00   0.04   0.00   0.00   0.00   0.01   0.00   0.00   0.00   0.12   0.00   0.00   0.00   0.00   0.03   0.00   0.00   0.00   0.00   0.00   0.00   0.00  0.0003 \n",
      "\b         pole | 0.00   0.00   0.00   0.00   0.00   0.00   0.00   0.00   0.02   0.00   0.00   0.27   0.00   0.02   0.00   0.00   0.00   0.50   0.00   0.01   0.01   0.10   0.00   0.01   0.02   0.00   0.02   0.00   0.00   0.00   0.00   0.01   0.00   0.01  0.0129 \n",
      "\b    polegroup | 0.00   0.00   0.00   0.00   0.00   0.00   0.00   0.01   0.07   0.00   0.00   0.38   0.00   0.12   0.00   0.00   0.00   0.19   0.00   0.00   0.00   0.05   0.02   0.00   0.06   0.00   0.04   0.00   0.00   0.00   0.00   0.00   0.00   0.06  0.0001 \n",
      "\btraffic light | 0.00   0.00   0.00   0.00   0.00   0.00   0.00   0.00   0.00   0.00   0.00   0.35   0.00   0.00   0.00   0.00   0.00   0.05   0.00   0.38   0.01   0.21   0.00   0.01   0.00   0.00   0.00   0.00   0.00   0.00   0.00   0.00   0.00   0.00  0.0017 \n",
      "\b traffic sign | 0.00   0.00   0.00   0.00   0.00   0.00   0.00   0.00   0.00   0.00   0.00   0.28   0.00   0.02   0.00   0.00   0.00   0.02   0.00   0.00   0.56   0.06   0.00   0.00   0.02   0.00   0.02   0.00   0.00   0.00   0.00   0.00   0.00   0.00  0.0058 \n",
      "\b   vegetation | 0.00   0.00   0.00   0.00   0.00   0.00   0.00   0.00   0.00   0.00   0.00   0.03   0.00   0.00   0.00   0.00   0.00   0.00   0.00   0.00   0.00   0.93   0.01   0.00   0.00   0.00   0.00   0.00   0.00   0.00   0.00   0.00   0.00   0.00  0.1515 \n",
      "\b      terrain | 0.00   0.00   0.00   0.00   0.00   0.00   0.00   0.05   0.16   0.00   0.00   0.01   0.01   0.01   0.00   0.00   0.00   0.01   0.00   0.00   0.00   0.17   0.54   0.00   0.00   0.00   0.03   0.00   0.00   0.00   0.00   0.00   0.00   0.01  0.0073 \n",
      "\b          sky | 0.00   0.00   0.00   0.00   0.00   0.00   0.00   0.00   0.00   0.00   0.00   0.05   0.00   0.00   0.00   0.00   0.00   0.00   0.00   0.00   0.00   0.01   0.00   0.93   0.00   0.00   0.00   0.00   0.00   0.00   0.00   0.00   0.00   0.00  0.0293 \n",
      "\b       person | 0.00   0.00   0.00   0.00   0.00   0.00   0.00   0.03   0.01   0.00   0.00   0.09   0.00   0.00   0.00   0.00   0.00   0.01   0.00   0.00   0.00   0.02   0.00   0.00   0.75   0.03   0.03   0.00   0.00   0.00   0.00   0.00   0.00   0.03  0.0114 \n",
      "\b        rider | 0.00   0.00   0.00   0.00   0.00   0.00   0.00   0.01   0.00   0.00   0.00   0.06   0.00   0.00   0.00   0.00   0.00   0.00   0.00   0.00   0.00   0.03   0.00   0.00   0.30   0.41   0.04   0.00   0.00   0.00   0.00   0.00   0.01   0.13  0.0019 \n",
      "\b          car | 0.00   0.00   0.00   0.00   0.00   0.00   0.00   0.01   0.00   0.00   0.00   0.02   0.00   0.00   0.00   0.00   0.00   0.00   0.00   0.00   0.00   0.01   0.00   0.00   0.01   0.00   0.93   0.01   0.01   0.00   0.00   0.00   0.00   0.00  0.0570 \n",
      "\b        truck | 0.00   0.00   0.00   0.00   0.00   0.00   0.00   0.01   0.00   0.00   0.00   0.14   0.00   0.00   0.00   0.00   0.00   0.00   0.00   0.00   0.01   0.02   0.00   0.02   0.01   0.00   0.42   0.32   0.07   0.00   0.00   0.00   0.00   0.00  0.0026 \n",
      "\b          bus | 0.00   0.00   0.00   0.00   0.00   0.00   0.00   0.01   0.00   0.00   0.00   0.11   0.00   0.01   0.00   0.00   0.00   0.00   0.00   0.00   0.01   0.04   0.00   0.00   0.01   0.00   0.12   0.04   0.61   0.00   0.00   0.05   0.00   0.00  0.0034 \n",
      "\b      caravan | 0.00   0.00   0.00   0.00   0.00   0.00   0.00   0.01   0.00   0.00   0.00   0.16   0.01   0.00   0.00   0.00   0.00   0.00   0.00   0.00   0.00   0.06   0.00   0.00   0.00   0.00   0.22   0.52   0.02   0.00   0.00   0.00   0.00   0.00  0.0001 \n",
      "\b      trailer | 0.00   0.00   0.00   0.00   0.00   0.00   0.00   0.01   0.00   0.00   0.00   0.18   0.00   0.00   0.00   0.00   0.00   0.00   0.00   0.00   0.00   0.03   0.00   0.00   0.07   0.00   0.65   0.05   0.00   0.00   0.00   0.00   0.00   0.00  0.0002 \n",
      "\b        train | 0.00   0.00   0.00   0.00   0.00   0.00   0.00   0.00   0.00   0.00   0.00   0.34   0.00   0.04   0.00   0.00   0.00   0.01   0.00   0.00   0.00   0.03   0.00   0.01   0.00   0.00   0.04   0.00   0.26   0.00   0.00   0.28   0.00   0.00  0.0010 \n",
      "\b   motorcycle | 0.00   0.00   0.00   0.00   0.00   0.00   0.00   0.01   0.01   0.00   0.00   0.05   0.00   0.01   0.00   0.00   0.00   0.00   0.00   0.00   0.00   0.01   0.00   0.00   0.09   0.05   0.33   0.01   0.00   0.00   0.00   0.00   0.22   0.21  0.0007 \n",
      "\b      bicycle | 0.00   0.00   0.00   0.00   0.00   0.00   0.00   0.02   0.03   0.00   0.00   0.06   0.00   0.01   0.00   0.00   0.00   0.01   0.00   0.00   0.00   0.02   0.00   0.00   0.05   0.02   0.05   0.00   0.00   0.00   0.00   0.00   0.02   0.71  0.0062 \n",
      "\b-------------- ------ ------ ------ ------ ------ ------ ------ ------ ------ ------ ------ ------ ------ ------ ------ ------ ------ ------ ------ ------ ------ ------ ------ ------ ------ ------ ------ ------ ------ ------ ------ ------ ------ ------ -------  \n",
      "\n",
      "classes          IoU      nIoU\n",
      "--------------------------------\n",
      "road          : 0.936      nan\n",
      "sidewalk      : 0.610      nan\n",
      "building      : 0.828      nan\n",
      "wall          : 0.246      nan\n",
      "fence         : 0.315      nan\n",
      "pole          : 0.410      nan\n",
      "traffic light : 0.303      nan\n",
      "traffic sign  : 0.483      nan\n",
      "vegetation    : 0.866      nan\n",
      "terrain       : 0.429      nan\n",
      "sky           : 0.850      nan\n",
      "person        : 0.555    0.375\n",
      "rider         : 0.310    0.177\n",
      "car           : 0.795    0.712\n",
      "truck         : 0.237    0.130\n",
      "bus           : 0.446    0.255\n",
      "train         : 0.099    0.070\n",
      "motorcycle    : 0.146    0.077\n",
      "bicycle       : 0.531    0.345\n",
      "--------------------------------\n",
      "Score Average : 0.495    0.268\n",
      "--------------------------------\n",
      "\n",
      "\n",
      "categories       IoU      nIoU\n",
      "--------------------------------\n",
      "flat          : 0.963      nan\n",
      "construction  : 0.833      nan\n",
      "object        : 0.443      nan\n",
      "nature        : 0.869      nan\n",
      "sky           : 0.850      nan\n",
      "human         : 0.599    0.419\n",
      "vehicle       : 0.787    0.683\n",
      "--------------------------------\n",
      "Score Average : 0.763    0.551\n",
      "--------------------------------\n",
      "\n"
     ]
    }
   ],
   "source": [
    "import cityscapesScripts.cityscapesscripts.evaluation.evalPixelLevelSemanticLabeling as evalPixelLevelSemanticLabeling\n",
    "\n",
    "# the main call isn't working for some reason...\n",
    "if False:\n",
    "    evalPixelLevelSemanticLabeling.main()\n",
    "else:\n",
    "    import glob\n",
    "    args = evalPixelLevelSemanticLabeling.args\n",
    "    predictionImgList = []\n",
    "    groundTruthImgList = []\n",
    "    groundTruthImgList = glob.glob(args.groundTruthSearch)\n",
    "    for gt in groundTruthImgList:\n",
    "        predictionImgList.append( evalPixelLevelSemanticLabeling.getPrediction(args,gt) )\n",
    "    evalPixelLevelSemanticLabeling.evaluateImgLists(predictionImgList, groundTruthImgList, args)\n"
   ]
  },
  {
   "cell_type": "code",
   "execution_count": null,
   "metadata": {},
   "outputs": [],
   "source": []
  }
 ],
 "metadata": {
  "kernelspec": {
   "display_name": "Python 3",
   "language": "python",
   "name": "python3"
  },
  "language_info": {
   "codemirror_mode": {
    "name": "ipython",
    "version": 3
   },
   "file_extension": ".py",
   "mimetype": "text/x-python",
   "name": "python",
   "nbconvert_exporter": "python",
   "pygments_lexer": "ipython3",
   "version": "3.6.9"
  }
 },
 "nbformat": 4,
 "nbformat_minor": 4
}
