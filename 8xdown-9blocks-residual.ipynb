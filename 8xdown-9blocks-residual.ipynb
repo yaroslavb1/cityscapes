{
 "cells": [
  {
   "cell_type": "code",
   "execution_count": 1,
   "metadata": {},
   "outputs": [],
   "source": [
    "import os\n",
    "os.environ['CUDA_VISIBLE_DEVICES'] = '0'"
   ]
  },
  {
   "cell_type": "code",
   "execution_count": 2,
   "metadata": {},
   "outputs": [
    {
     "name": "stderr",
     "output_type": "stream",
     "text": [
      "Using TensorFlow backend.\n"
     ]
    }
   ],
   "source": [
    "import tensorflow.keras as keras\n",
    "import tensorflow as tf\n",
    "import tensorflow.keras.backend as K\n",
    "import matplotlib.pyplot as plt\n",
    "import numpy as np\n",
    "\n",
    "from generator import CityScapesGenerator\n",
    "from model_residual import create_model\n",
    "from loss import focal_loss"
   ]
  },
  {
   "cell_type": "code",
   "execution_count": 11,
   "metadata": {
    "scrolled": true
   },
   "outputs": [
    {
     "name": "stdout",
     "output_type": "stream",
     "text": [
      "Model: \"model_1\"\n",
      "__________________________________________________________________________________________________\n",
      "Layer (type)                    Output Shape         Param #     Connected to                     \n",
      "==================================================================================================\n",
      "input_2 (InputLayer)            [(None, 512, 1024, 3 0                                            \n",
      "__________________________________________________________________________________________________\n",
      "conv2d_16 (Conv2D)              (None, 256, 512, 64) 1728        input_2[0][0]                    \n",
      "__________________________________________________________________________________________________\n",
      "batch_normalization_21 (BatchNo (None, 256, 512, 64) 256         conv2d_16[0][0]                  \n",
      "__________________________________________________________________________________________________\n",
      "activation_21 (Activation)      (None, 256, 512, 64) 0           batch_normalization_21[0][0]     \n",
      "__________________________________________________________________________________________________\n",
      "conv2d_17 (Conv2D)              (None, 128, 256, 128 73728       activation_21[0][0]              \n",
      "__________________________________________________________________________________________________\n",
      "batch_normalization_22 (BatchNo (None, 128, 256, 128 512         conv2d_17[0][0]                  \n",
      "__________________________________________________________________________________________________\n",
      "activation_22 (Activation)      (None, 128, 256, 128 0           batch_normalization_22[0][0]     \n",
      "__________________________________________________________________________________________________\n",
      "conv2d_18 (Conv2D)              (None, 64, 128, 256) 294912      activation_22[0][0]              \n",
      "__________________________________________________________________________________________________\n",
      "batch_normalization_23 (BatchNo (None, 64, 128, 256) 1024        conv2d_18[0][0]                  \n",
      "__________________________________________________________________________________________________\n",
      "activation_23 (Activation)      (None, 64, 128, 256) 0           batch_normalization_23[0][0]     \n",
      "__________________________________________________________________________________________________\n",
      "conv2d_19 (Conv2D)              (None, 64, 128, 256) 65792       activation_23[0][0]              \n",
      "__________________________________________________________________________________________________\n",
      "batch_normalization_24 (BatchNo (None, 64, 128, 256) 1024        conv2d_19[0][0]                  \n",
      "__________________________________________________________________________________________________\n",
      "activation_24 (Activation)      (None, 64, 128, 256) 0           batch_normalization_24[0][0]     \n",
      "__________________________________________________________________________________________________\n",
      "depthwise_context_conv2d_6 (Dep (None, 64, 128, 1024 12288       activation_24[0][0]              \n",
      "__________________________________________________________________________________________________\n",
      "batch_normalization_25 (BatchNo (None, 64, 128, 1024 4096        depthwise_context_conv2d_6[0][0] \n",
      "__________________________________________________________________________________________________\n",
      "activation_25 (Activation)      (None, 64, 128, 1024 0           batch_normalization_25[0][0]     \n",
      "__________________________________________________________________________________________________\n",
      "conv2d_20 (Conv2D)              (None, 64, 128, 256) 262400      activation_25[0][0]              \n",
      "__________________________________________________________________________________________________\n",
      "batch_normalization_26 (BatchNo (None, 64, 128, 256) 1024        conv2d_20[0][0]                  \n",
      "__________________________________________________________________________________________________\n",
      "activation_26 (Activation)      (None, 64, 128, 256) 0           batch_normalization_26[0][0]     \n",
      "__________________________________________________________________________________________________\n",
      "add_6 (Add)                     (None, 64, 128, 256) 0           activation_26[0][0]              \n",
      "                                                                 activation_23[0][0]              \n",
      "__________________________________________________________________________________________________\n",
      "conv2d_21 (Conv2D)              (None, 64, 128, 256) 65792       add_6[0][0]                      \n",
      "__________________________________________________________________________________________________\n",
      "batch_normalization_27 (BatchNo (None, 64, 128, 256) 1024        conv2d_21[0][0]                  \n",
      "__________________________________________________________________________________________________\n",
      "activation_27 (Activation)      (None, 64, 128, 256) 0           batch_normalization_27[0][0]     \n",
      "__________________________________________________________________________________________________\n",
      "depthwise_context_conv2d_7 (Dep (None, 64, 128, 1024 12288       activation_27[0][0]              \n",
      "__________________________________________________________________________________________________\n",
      "batch_normalization_28 (BatchNo (None, 64, 128, 1024 4096        depthwise_context_conv2d_7[0][0] \n",
      "__________________________________________________________________________________________________\n",
      "activation_28 (Activation)      (None, 64, 128, 1024 0           batch_normalization_28[0][0]     \n",
      "__________________________________________________________________________________________________\n",
      "conv2d_22 (Conv2D)              (None, 64, 128, 256) 262400      activation_28[0][0]              \n",
      "__________________________________________________________________________________________________\n",
      "batch_normalization_29 (BatchNo (None, 64, 128, 256) 1024        conv2d_22[0][0]                  \n",
      "__________________________________________________________________________________________________\n",
      "activation_29 (Activation)      (None, 64, 128, 256) 0           batch_normalization_29[0][0]     \n",
      "__________________________________________________________________________________________________\n",
      "add_7 (Add)                     (None, 64, 128, 256) 0           activation_29[0][0]              \n",
      "                                                                 add_6[0][0]                      \n",
      "__________________________________________________________________________________________________\n",
      "conv2d_23 (Conv2D)              (None, 64, 128, 256) 65792       add_7[0][0]                      \n",
      "__________________________________________________________________________________________________\n",
      "batch_normalization_30 (BatchNo (None, 64, 128, 256) 1024        conv2d_23[0][0]                  \n",
      "__________________________________________________________________________________________________\n",
      "activation_30 (Activation)      (None, 64, 128, 256) 0           batch_normalization_30[0][0]     \n",
      "__________________________________________________________________________________________________\n",
      "depthwise_context_conv2d_8 (Dep (None, 64, 128, 1024 12288       activation_30[0][0]              \n",
      "__________________________________________________________________________________________________\n",
      "batch_normalization_31 (BatchNo (None, 64, 128, 1024 4096        depthwise_context_conv2d_8[0][0] \n",
      "__________________________________________________________________________________________________\n",
      "activation_31 (Activation)      (None, 64, 128, 1024 0           batch_normalization_31[0][0]     \n",
      "__________________________________________________________________________________________________\n",
      "conv2d_24 (Conv2D)              (None, 64, 128, 256) 262400      activation_31[0][0]              \n",
      "__________________________________________________________________________________________________\n",
      "batch_normalization_32 (BatchNo (None, 64, 128, 256) 1024        conv2d_24[0][0]                  \n",
      "__________________________________________________________________________________________________\n",
      "activation_32 (Activation)      (None, 64, 128, 256) 0           batch_normalization_32[0][0]     \n",
      "__________________________________________________________________________________________________\n",
      "add_8 (Add)                     (None, 64, 128, 256) 0           activation_32[0][0]              \n",
      "                                                                 add_7[0][0]                      \n",
      "__________________________________________________________________________________________________\n",
      "conv2d_25 (Conv2D)              (None, 64, 128, 256) 65792       add_8[0][0]                      \n",
      "__________________________________________________________________________________________________\n",
      "batch_normalization_33 (BatchNo (None, 64, 128, 256) 1024        conv2d_25[0][0]                  \n",
      "__________________________________________________________________________________________________\n",
      "activation_33 (Activation)      (None, 64, 128, 256) 0           batch_normalization_33[0][0]     \n",
      "__________________________________________________________________________________________________\n",
      "depthwise_context_conv2d_9 (Dep (None, 64, 128, 1024 12288       activation_33[0][0]              \n",
      "__________________________________________________________________________________________________\n",
      "batch_normalization_34 (BatchNo (None, 64, 128, 1024 4096        depthwise_context_conv2d_9[0][0] \n",
      "__________________________________________________________________________________________________\n",
      "activation_34 (Activation)      (None, 64, 128, 1024 0           batch_normalization_34[0][0]     \n",
      "__________________________________________________________________________________________________\n",
      "conv2d_26 (Conv2D)              (None, 64, 128, 256) 262400      activation_34[0][0]              \n",
      "__________________________________________________________________________________________________\n",
      "batch_normalization_35 (BatchNo (None, 64, 128, 256) 1024        conv2d_26[0][0]                  \n",
      "__________________________________________________________________________________________________\n",
      "activation_35 (Activation)      (None, 64, 128, 256) 0           batch_normalization_35[0][0]     \n",
      "__________________________________________________________________________________________________\n",
      "add_9 (Add)                     (None, 64, 128, 256) 0           activation_35[0][0]              \n",
      "                                                                 add_8[0][0]                      \n",
      "__________________________________________________________________________________________________\n",
      "conv2d_27 (Conv2D)              (None, 64, 128, 256) 65792       add_9[0][0]                      \n",
      "__________________________________________________________________________________________________\n",
      "batch_normalization_36 (BatchNo (None, 64, 128, 256) 1024        conv2d_27[0][0]                  \n",
      "__________________________________________________________________________________________________\n",
      "activation_36 (Activation)      (None, 64, 128, 256) 0           batch_normalization_36[0][0]     \n",
      "__________________________________________________________________________________________________\n",
      "depthwise_context_conv2d_10 (De (None, 64, 128, 1024 12288       activation_36[0][0]              \n",
      "__________________________________________________________________________________________________\n",
      "batch_normalization_37 (BatchNo (None, 64, 128, 1024 4096        depthwise_context_conv2d_10[0][0]\n",
      "__________________________________________________________________________________________________\n",
      "activation_37 (Activation)      (None, 64, 128, 1024 0           batch_normalization_37[0][0]     \n",
      "__________________________________________________________________________________________________\n",
      "conv2d_28 (Conv2D)              (None, 64, 128, 256) 262400      activation_37[0][0]              \n",
      "__________________________________________________________________________________________________\n",
      "batch_normalization_38 (BatchNo (None, 64, 128, 256) 1024        conv2d_28[0][0]                  \n",
      "__________________________________________________________________________________________________\n",
      "activation_38 (Activation)      (None, 64, 128, 256) 0           batch_normalization_38[0][0]     \n",
      "__________________________________________________________________________________________________\n",
      "add_10 (Add)                    (None, 64, 128, 256) 0           activation_38[0][0]              \n",
      "                                                                 add_9[0][0]                      \n",
      "__________________________________________________________________________________________________\n",
      "conv2d_29 (Conv2D)              (None, 64, 128, 256) 65792       add_10[0][0]                     \n",
      "__________________________________________________________________________________________________\n",
      "batch_normalization_39 (BatchNo (None, 64, 128, 256) 1024        conv2d_29[0][0]                  \n",
      "__________________________________________________________________________________________________\n",
      "activation_39 (Activation)      (None, 64, 128, 256) 0           batch_normalization_39[0][0]     \n",
      "__________________________________________________________________________________________________\n",
      "depthwise_context_conv2d_11 (De (None, 64, 128, 1024 12288       activation_39[0][0]              \n",
      "__________________________________________________________________________________________________\n",
      "batch_normalization_40 (BatchNo (None, 64, 128, 1024 4096        depthwise_context_conv2d_11[0][0]\n",
      "__________________________________________________________________________________________________\n",
      "activation_40 (Activation)      (None, 64, 128, 1024 0           batch_normalization_40[0][0]     \n",
      "__________________________________________________________________________________________________\n",
      "conv2d_30 (Conv2D)              (None, 64, 128, 256) 262400      activation_40[0][0]              \n",
      "__________________________________________________________________________________________________\n",
      "batch_normalization_41 (BatchNo (None, 64, 128, 256) 1024        conv2d_30[0][0]                  \n",
      "__________________________________________________________________________________________________\n",
      "activation_41 (Activation)      (None, 64, 128, 256) 0           batch_normalization_41[0][0]     \n",
      "__________________________________________________________________________________________________\n",
      "add_11 (Add)                    (None, 64, 128, 256) 0           activation_41[0][0]              \n",
      "                                                                 add_10[0][0]                     \n",
      "__________________________________________________________________________________________________\n",
      "conv2d_31 (Conv2D)              (None, 64, 128, 256) 65792       add_11[0][0]                     \n",
      "__________________________________________________________________________________________________\n",
      "batch_normalization_42 (BatchNo (None, 64, 128, 256) 1024        conv2d_31[0][0]                  \n",
      "__________________________________________________________________________________________________\n",
      "activation_42 (Activation)      (None, 64, 128, 256) 0           batch_normalization_42[0][0]     \n",
      "__________________________________________________________________________________________________\n",
      "depthwise_context_conv2d_12 (De (None, 64, 128, 1024 12288       activation_42[0][0]              \n",
      "__________________________________________________________________________________________________\n",
      "batch_normalization_43 (BatchNo (None, 64, 128, 1024 4096        depthwise_context_conv2d_12[0][0]\n",
      "__________________________________________________________________________________________________\n",
      "activation_43 (Activation)      (None, 64, 128, 1024 0           batch_normalization_43[0][0]     \n",
      "__________________________________________________________________________________________________\n",
      "conv2d_32 (Conv2D)              (None, 64, 128, 256) 262400      activation_43[0][0]              \n",
      "__________________________________________________________________________________________________\n",
      "batch_normalization_44 (BatchNo (None, 64, 128, 256) 1024        conv2d_32[0][0]                  \n",
      "__________________________________________________________________________________________________\n",
      "activation_44 (Activation)      (None, 64, 128, 256) 0           batch_normalization_44[0][0]     \n",
      "__________________________________________________________________________________________________\n",
      "add_12 (Add)                    (None, 64, 128, 256) 0           activation_44[0][0]              \n",
      "                                                                 add_11[0][0]                     \n",
      "__________________________________________________________________________________________________\n",
      "conv2d_33 (Conv2D)              (None, 64, 128, 256) 65792       add_12[0][0]                     \n",
      "__________________________________________________________________________________________________\n",
      "batch_normalization_45 (BatchNo (None, 64, 128, 256) 1024        conv2d_33[0][0]                  \n",
      "__________________________________________________________________________________________________\n",
      "activation_45 (Activation)      (None, 64, 128, 256) 0           batch_normalization_45[0][0]     \n",
      "__________________________________________________________________________________________________\n",
      "depthwise_context_conv2d_13 (De (None, 64, 128, 1024 12288       activation_45[0][0]              \n",
      "__________________________________________________________________________________________________\n",
      "batch_normalization_46 (BatchNo (None, 64, 128, 1024 4096        depthwise_context_conv2d_13[0][0]\n",
      "__________________________________________________________________________________________________\n",
      "activation_46 (Activation)      (None, 64, 128, 1024 0           batch_normalization_46[0][0]     \n",
      "__________________________________________________________________________________________________\n",
      "conv2d_34 (Conv2D)              (None, 64, 128, 256) 262400      activation_46[0][0]              \n",
      "__________________________________________________________________________________________________\n",
      "batch_normalization_47 (BatchNo (None, 64, 128, 256) 1024        conv2d_34[0][0]                  \n",
      "__________________________________________________________________________________________________\n",
      "activation_47 (Activation)      (None, 64, 128, 256) 0           batch_normalization_47[0][0]     \n",
      "__________________________________________________________________________________________________\n",
      "add_13 (Add)                    (None, 64, 128, 256) 0           activation_47[0][0]              \n",
      "                                                                 add_12[0][0]                     \n",
      "__________________________________________________________________________________________________\n",
      "conv2d_35 (Conv2D)              (None, 64, 128, 256) 65792       add_13[0][0]                     \n",
      "__________________________________________________________________________________________________\n",
      "batch_normalization_48 (BatchNo (None, 64, 128, 256) 1024        conv2d_35[0][0]                  \n",
      "__________________________________________________________________________________________________\n",
      "activation_48 (Activation)      (None, 64, 128, 256) 0           batch_normalization_48[0][0]     \n",
      "__________________________________________________________________________________________________\n",
      "depthwise_context_conv2d_14 (De (None, 64, 128, 1024 12288       activation_48[0][0]              \n",
      "__________________________________________________________________________________________________\n",
      "batch_normalization_49 (BatchNo (None, 64, 128, 1024 4096        depthwise_context_conv2d_14[0][0]\n",
      "__________________________________________________________________________________________________\n",
      "activation_49 (Activation)      (None, 64, 128, 1024 0           batch_normalization_49[0][0]     \n",
      "__________________________________________________________________________________________________\n",
      "conv2d_36 (Conv2D)              (None, 64, 128, 256) 262400      activation_49[0][0]              \n",
      "__________________________________________________________________________________________________\n",
      "batch_normalization_50 (BatchNo (None, 64, 128, 256) 1024        conv2d_36[0][0]                  \n",
      "__________________________________________________________________________________________________\n",
      "activation_50 (Activation)      (None, 64, 128, 256) 0           batch_normalization_50[0][0]     \n",
      "__________________________________________________________________________________________________\n",
      "add_14 (Add)                    (None, 64, 128, 256) 0           activation_50[0][0]              \n",
      "                                                                 add_13[0][0]                     \n",
      "__________________________________________________________________________________________________\n",
      "conv2d_37 (Conv2D)              (None, 64, 128, 19)  4883        add_14[0][0]                     \n",
      "__________________________________________________________________________________________________\n",
      "up_sampling2d_1 (UpSampling2D)  (None, 512, 1024, 19 0           conv2d_37[0][0]                  \n",
      "==================================================================================================\n",
      "Total params: 3,496,659\n",
      "Trainable params: 3,468,115\n",
      "Non-trainable params: 28,544\n",
      "__________________________________________________________________________________________________\n"
     ]
    }
   ],
   "source": [
    "model = create_model((512, 1024, 3), width=64, depth=9)\n",
    "model.summary()"
   ]
  },
  {
   "cell_type": "code",
   "execution_count": 12,
   "metadata": {},
   "outputs": [],
   "source": [
    "epochs = 100\n",
    "bs = 4\n",
    "\n",
    "gen_train = CityScapesGenerator('train', dir_ = 'data', batch_size=bs)\n",
    "gen_val = CityScapesGenerator('val', dir_ = 'data', batch_size=bs)"
   ]
  },
  {
   "cell_type": "code",
   "execution_count": 13,
   "metadata": {},
   "outputs": [],
   "source": [
    "lr_schedule = keras.optimizers.schedules.PolynomialDecay(\n",
    "    0.01, \n",
    "    len(gen_train) * epochs, \n",
    "    1e-4, \n",
    "    0.9\n",
    ")\n",
    "\n",
    "model.compile(\n",
    "    optimizer=keras.optimizers.Adam(lr_schedule),\n",
    "    loss=focal_loss,\n",
    ")"
   ]
  },
  {
   "cell_type": "code",
   "execution_count": null,
   "metadata": {
    "scrolled": true
   },
   "outputs": [
    {
     "name": "stdout",
     "output_type": "stream",
     "text": [
      "WARNING:tensorflow:sample_weight modes were coerced from\n",
      "  ...\n",
      "    to  \n",
      "  ['...']\n",
      "WARNING:tensorflow:sample_weight modes were coerced from\n",
      "  ...\n",
      "    to  \n",
      "  ['...']\n",
      "Train for 744 steps, validate for 125 steps\n",
      "Epoch 1/100\n",
      "744/744 [==============================] - 5193s 7s/step - loss: 0.0564 - val_loss: 0.0724\n",
      "Epoch 2/100\n",
      "744/744 [==============================] - 5180s 7s/step - loss: 0.0302 - val_loss: 0.0526\n",
      "Epoch 3/100\n",
      "744/744 [==============================] - 5183s 7s/step - loss: 0.0271 - val_loss: 0.0397\n",
      "Epoch 4/100\n",
      "744/744 [==============================] - 5186s 7s/step - loss: 0.0235 - val_loss: 0.0435\n",
      "Epoch 5/100\n",
      "744/744 [==============================] - 5165s 7s/step - loss: 0.0205 - val_loss: 0.0361\n",
      "Epoch 6/100\n",
      "744/744 [==============================] - 5169s 7s/step - loss: 0.0197 - val_loss: 0.0388\n",
      "Epoch 7/100\n",
      "744/744 [==============================] - 5181s 7s/step - loss: 0.0186 - val_loss: 0.0225\n",
      "Epoch 8/100\n",
      "744/744 [==============================] - 5182s 7s/step - loss: 0.0168 - val_loss: 0.0214\n",
      "Epoch 9/100\n",
      "744/744 [==============================] - 5182s 7s/step - loss: 0.0165 - val_loss: 0.0470\n",
      "Epoch 10/100\n",
      "744/744 [==============================] - 5180s 7s/step - loss: 0.0158 - val_loss: 0.0297\n",
      "Epoch 11/100\n",
      "744/744 [==============================] - 5179s 7s/step - loss: 0.0149 - val_loss: 0.0184\n",
      "Epoch 12/100\n",
      "744/744 [==============================] - 5190s 7s/step - loss: 0.0144 - val_loss: 0.0242\n",
      "Epoch 13/100\n",
      "230/744 [========>.....................] - ETA: 58:23 - loss: 0.0143"
     ]
    }
   ],
   "source": [
    "model.fit(\n",
    "    gen_train,\n",
    "    epochs=epochs,\n",
    "    validation_data=gen_val,\n",
    ")"
   ]
  },
  {
   "cell_type": "code",
   "execution_count": 9,
   "metadata": {
    "scrolled": true
   },
   "outputs": [
    {
     "data": {
      "image/png": "[encoded data removed]",
      "text/plain": [
       "<matplotlib.figure.Figure at 0x7f7d4409e9e8>"
      ]
     },
     "metadata": {},
     "output_type": "display_data"
    },
    {
     "data": {
      "image/png": "[encoded data removed]",
      "text/plain": [
       "<matplotlib.figure.Figure at 0x7f7d3069d208>"
      ]
     },
     "metadata": {},
     "output_type": "display_data"
    },
    {
     "data": {
      "image/png": "[encoded data removed]",
      "text/plain": [
       "<matplotlib.figure.Figure at 0x7f7d30666e10>"
      ]
     },
     "metadata": {},
     "output_type": "display_data"
    },
    {
     "data": {
      "image/png": "[encoded data removed]",
      "text/plain": [
       "<matplotlib.figure.Figure at 0x7f7d305bd978>"
      ]
     },
     "metadata": {},
     "output_type": "display_data"
    },
    {
     "data": {
      "image/png": "[encoded data removed]",
      "text/plain": [
       "<matplotlib.figure.Figure at 0x7f7d4469ac88>"
      ]
     },
     "metadata": {},
     "output_type": "display_data"
    },
    {
     "data": {
      "image/png": "[encoded data removed]",
      "text/plain": [
       "<matplotlib.figure.Figure at 0x7f7d4415a4e0>"
      ]
     },
     "metadata": {},
     "output_type": "display_data"
    },
    {
     "data": {
      "image/png": "[encoded data removed]",
      "text/plain": [
       "<matplotlib.figure.Figure at 0x7f7d441f57f0>"
      ]
     },
     "metadata": {},
     "output_type": "display_data"
    },
    {
     "data": {
      "image/png": "[encoded data removed]",
      "text/plain": [
       "<matplotlib.figure.Figure at 0x7f7d441c0b38>"
      ]
     },
     "metadata": {},
     "output_type": "display_data"
    },
    {
     "data": {
      "image/png": "[encoded data removed]",
      "text/plain": [
       "<matplotlib.figure.Figure at 0x7f7d442fd198>"
      ]
     },
     "metadata": {},
     "output_type": "display_data"
    },
    {
     "data": {
      "image/png": "[encoded data removed]",
      "text/plain": [
       "<matplotlib.figure.Figure at 0x7f7d4416fa20>"
      ]
     },
     "metadata": {},
     "output_type": "display_data"
    },
    {
     "data": {
      "image/png": "[encoded data removed]",
      "text/plain": [
       "<matplotlib.figure.Figure at 0x7f7d3072fdd8>"
      ]
     },
     "metadata": {},
     "output_type": "display_data"
    },
    {
     "data": {
      "image/png": "[encoded data removed]",
      "text/plain": [
       "<matplotlib.figure.Figure at 0x7f7d44088550>"
      ]
     },
     "metadata": {},
     "output_type": "display_data"
    }
   ],
   "source": [
    "# plot dilation rate histograms\n",
    "for i in range(12):\n",
    "    for layer in model.layers:\n",
    "        weights = layer.get_weights()\n",
    "        if len(weights) == 4:\n",
    "            fig, (ax1, ax2) = plt.subplots(1, 2)\n",
    "            ax1.hist(weights[2].flatten())\n",
    "            ax2.hist(weights[3].flatten())"
   ]
  },
  {
   "cell_type": "code",
   "execution_count": 11,
   "metadata": {},
   "outputs": [
    {
     "data": {
      "text/plain": [
       "<matplotlib.colorbar.Colorbar at 0x7f77a860d320>"
      ]
     },
     "execution_count": 11,
     "metadata": {},
     "output_type": "execute_result"
    }
   ],
   "source": [
    "import matplotlib.pyplot as plt\n",
    "\n",
    "pred = model.predict(gen_train[0][0])\n",
    "\n",
    "plt.imshow(pred[0, ..., 1])\n",
    "plt.colorbar()"
   ]
  },
  {
   "cell_type": "code",
   "execution_count": null,
   "metadata": {},
   "outputs": [],
   "source": [
    "# TODO: Add SRIP regularization to 1x1 convs. "
   ]
  },
  {
   "cell_type": "code",
   "execution_count": null,
   "metadata": {},
   "outputs": [],
   "source": []
  },
  {
   "cell_type": "code",
   "execution_count": null,
   "metadata": {},
   "outputs": [],
   "source": []
  },
  {
   "cell_type": "code",
   "execution_count": 6,
   "metadata": {},
   "outputs": [],
   "source": [
    "bs = 4\n",
    "\n",
    "gen_train = CityScapesGenerator('train', dir_ = 'data', batch_size=bs)\n",
    "gen_val = CityScapesGenerator('val', dir_ = 'data', batch_size=bs)"
   ]
  },
  {
   "cell_type": "code",
   "execution_count": 18,
   "metadata": {
    "scrolled": true
   },
   "outputs": [
    {
     "name": "stdout",
     "output_type": "stream",
     "text": [
      "0.001\t0.193\n",
      "0.00103\t0.0554\n",
      "0.00106\t0.0605\n",
      "0.00109\t0.0493\n",
      "0.00112\t0.036\n",
      "0.00116\t0.0228\n",
      "0.00119\t0.0149\n",
      "0.00122\t0.0108\n",
      "0.00126\t0.0087\n",
      "0.0013\t0.00777\n",
      "0.00134\t0.00698\n",
      "0.00137\t0.00626\n",
      "0.00141\t0.00584\n",
      "0.00146\t0.00529\n",
      "0.0015\t0.00483\n",
      "0.00154\t0.00456\n",
      "0.00159\t0.00426\n",
      "0.00163\t0.00403\n",
      "0.00168\t0.00371\n",
      "0.00173\t0.00344\n",
      "0.00178\t0.00325\n",
      "0.00183\t0.00305\n",
      "0.00189\t0.0029\n",
      "0.00194\t0.00277\n",
      "0.002\t0.00258\n",
      "0.00206\t0.00242\n",
      "0.00212\t0.00231\n",
      "0.00218\t0.00219\n",
      "0.00225\t0.00207\n",
      "0.00231\t0.00194\n",
      "0.00238\t0.00182\n",
      "0.00245\t0.00172\n",
      "0.00252\t0.00168\n",
      "0.0026\t0.00173\n",
      "0.00267\t0.00168\n",
      "0.00275\t0.00166\n",
      "0.00283\t0.00156\n",
      "0.00291\t0.00155\n",
      "0.003\t0.00163\n",
      "0.00309\t0.00267\n",
      "0.00318\t0.00354\n",
      "0.00327\t0.00281\n",
      "0.00337\t0.00255\n",
      "0.00347\t0.00231\n",
      "0.00357\t0.00238\n",
      "0.00367\t0.00213\n",
      "0.00378\t0.00211\n",
      "0.00389\t0.00188\n",
      "0.004\t0.00183\n",
      "0.00412\t0.00162\n",
      "0.00424\t0.00166\n",
      "0.00437\t0.00148\n",
      "0.00449\t0.00163\n",
      "0.00463\t0.00159\n",
      "0.00476\t0.00164\n",
      "0.0049\t0.00149\n",
      "0.00505\t0.00152\n",
      "0.00519\t0.00138\n",
      "0.00535\t0.00126\n",
      "0.0055\t0.00127\n",
      "0.00566\t0.00124\n",
      "0.00583\t0.00113\n",
      "0.006\t0.00115\n",
      "0.00618\t0.00109\n",
      "0.00636\t0.00108\n",
      "0.00654\t0.00109\n",
      "0.00674\t0.00101\n",
      "0.00693\t0.00117\n",
      "0.00714\t0.00104\n",
      "0.00735\t0.00103\n",
      "0.00756\t0.000926\n",
      "0.00778\t0.00103\n",
      "0.00801\t0.00106\n",
      "0.00825\t0.00117\n",
      "0.00849\t0.00105\n",
      "0.00874\t0.00106\n",
      "0.00899\t0.00107\n",
      "0.00926\t0.00169\n",
      "0.00953\t0.00195\n",
      "0.00981\t0.00208\n",
      "0.0101\t0.00203\n",
      "0.0104\t0.002\n",
      "0.0107\t0.00158\n",
      "0.011\t0.0019\n",
      "0.0113\t0.00191\n",
      "0.0117\t0.00214\n",
      "0.012\t0.00191\n",
      "0.0124\t0.00173\n",
      "0.0127\t0.00168\n",
      "0.0131\t0.00161\n",
      "0.0135\t0.00149\n",
      "0.0139\t0.0015\n",
      "0.0143\t0.00145\n",
      "0.0147\t0.0013\n",
      "0.0151\t0.00127\n",
      "0.0156\t0.00112\n",
      "0.016\t0.00126\n",
      "0.0165\t0.00135\n",
      "0.017\t0.00117\n",
      "0.0175\t0.00121\n",
      "0.018\t0.00129\n",
      "0.0185\t0.00125\n",
      "0.0191\t0.00212\n",
      "0.0196\t0.00356\n",
      "0.0202\t0.00718\n",
      "0.0208\t0.00922\n",
      "0.0214\t0.0752\n",
      "0.022\t0.0575\n",
      "0.0227\t0.0808\n",
      "0.0233\t0.142\n",
      "0.024\t0.0992\n",
      "0.0247\t0.0632\n",
      "0.0255\t0.084\n",
      "0.0262\t0.0493\n",
      "0.027\t0.0462\n",
      "0.0278\t0.0409\n"
     ]
    },
    {
     "ename": "KeyboardInterrupt",
     "evalue": "",
     "output_type": "error",
     "traceback": [
      "\u001b[0;31m---------------------------------------------------------------------------\u001b[0m",
      "\u001b[0;31mKeyboardInterrupt\u001b[0m                         Traceback (most recent call last)",
      "\u001b[0;32m<ipython-input-18-aefac11b8c0e>\u001b[0m in \u001b[0;36m<module>\u001b[0;34m()\u001b[0m\n\u001b[1;32m      3\u001b[0m \u001b[0;32mfor\u001b[0m \u001b[0mlr\u001b[0m \u001b[0;32min\u001b[0m \u001b[0mnp\u001b[0m\u001b[0;34m.\u001b[0m\u001b[0mlogspace\u001b[0m\u001b[0;34m(\u001b[0m\u001b[0;34m-\u001b[0m\u001b[0;36m3\u001b[0m\u001b[0;34m,\u001b[0m \u001b[0;36m0\u001b[0m\u001b[0;34m,\u001b[0m \u001b[0;36m240\u001b[0m\u001b[0;34m)\u001b[0m\u001b[0;34m:\u001b[0m\u001b[0;34m\u001b[0m\u001b[0;34m\u001b[0m\u001b[0m\n\u001b[1;32m      4\u001b[0m     \u001b[0mK\u001b[0m\u001b[0;34m.\u001b[0m\u001b[0mset_value\u001b[0m\u001b[0;34m(\u001b[0m\u001b[0mmodel\u001b[0m\u001b[0;34m.\u001b[0m\u001b[0moptimizer\u001b[0m\u001b[0;34m.\u001b[0m\u001b[0mlr\u001b[0m\u001b[0;34m,\u001b[0m \u001b[0mlr\u001b[0m\u001b[0;34m)\u001b[0m\u001b[0;34m\u001b[0m\u001b[0;34m\u001b[0m\u001b[0m\n\u001b[0;32m----> 5\u001b[0;31m     \u001b[0mloss\u001b[0m \u001b[0;34m=\u001b[0m \u001b[0mmodel\u001b[0m\u001b[0;34m.\u001b[0m\u001b[0mtrain_on_batch\u001b[0m\u001b[0;34m(\u001b[0m\u001b[0mx\u001b[0m\u001b[0;34m,\u001b[0m \u001b[0my\u001b[0m\u001b[0;34m)\u001b[0m\u001b[0;34m\u001b[0m\u001b[0;34m\u001b[0m\u001b[0m\n\u001b[0m\u001b[1;32m      6\u001b[0m     \u001b[0mprint\u001b[0m\u001b[0;34m(\u001b[0m\u001b[0;34mf'{lr:.3g}\\t{loss:.3g}'\u001b[0m\u001b[0;34m)\u001b[0m\u001b[0;34m\u001b[0m\u001b[0;34m\u001b[0m\u001b[0m\n",
      "\u001b[0;32m/home/slavo/.local/lib/python3.6/site-packages/tensorflow/python/keras/engine/training.py\u001b[0m in \u001b[0;36mtrain_on_batch\u001b[0;34m(self, x, y, sample_weight, class_weight, reset_metrics)\u001b[0m\n\u001b[1;32m    981\u001b[0m         \u001b[0mclass_weight\u001b[0m\u001b[0;34m=\u001b[0m\u001b[0mclass_weight\u001b[0m\u001b[0;34m,\u001b[0m\u001b[0;34m\u001b[0m\u001b[0;34m\u001b[0m\u001b[0m\n\u001b[1;32m    982\u001b[0m         \u001b[0mreset_metrics\u001b[0m\u001b[0;34m=\u001b[0m\u001b[0mreset_metrics\u001b[0m\u001b[0;34m,\u001b[0m\u001b[0;34m\u001b[0m\u001b[0;34m\u001b[0m\u001b[0m\n\u001b[0;32m--> 983\u001b[0;31m         standalone=True)\n\u001b[0m\u001b[1;32m    984\u001b[0m     outputs = (\n\u001b[1;32m    985\u001b[0m         outputs['total_loss'] + outputs['output_losses'] + outputs['metrics'])\n",
      "\u001b[0;32m/home/slavo/.local/lib/python3.6/site-packages/tensorflow/python/keras/engine/training_v2_utils.py\u001b[0m in \u001b[0;36mtrain_on_batch\u001b[0;34m(model, x, y, sample_weight, class_weight, reset_metrics, standalone)\u001b[0m\n\u001b[1;32m    436\u001b[0m     \u001b[0mmodel\u001b[0m\u001b[0;34m.\u001b[0m\u001b[0mreset_metrics\u001b[0m\u001b[0;34m(\u001b[0m\u001b[0;34m)\u001b[0m\u001b[0;34m\u001b[0m\u001b[0;34m\u001b[0m\u001b[0m\n\u001b[1;32m    437\u001b[0m \u001b[0;34m\u001b[0m\u001b[0m\n\u001b[0;32m--> 438\u001b[0;31m   \u001b[0moutputs\u001b[0m\u001b[0;34m[\u001b[0m\u001b[0;34m'batch_size'\u001b[0m\u001b[0;34m]\u001b[0m \u001b[0;34m=\u001b[0m \u001b[0mmath_ops\u001b[0m\u001b[0;34m.\u001b[0m\u001b[0mcast\u001b[0m\u001b[0;34m(\u001b[0m\u001b[0mbatch_size\u001b[0m\u001b[0;34m,\u001b[0m \u001b[0mdtypes\u001b[0m\u001b[0;34m.\u001b[0m\u001b[0mint64\u001b[0m\u001b[0;34m)\u001b[0m\u001b[0;34m\u001b[0m\u001b[0;34m\u001b[0m\u001b[0m\n\u001b[0m\u001b[1;32m    439\u001b[0m   \u001b[0;32mreturn\u001b[0m \u001b[0moutputs\u001b[0m\u001b[0;34m\u001b[0m\u001b[0;34m\u001b[0m\u001b[0m\n\u001b[1;32m    440\u001b[0m \u001b[0;34m\u001b[0m\u001b[0m\n",
      "\u001b[0;32m/home/slavo/.local/lib/python3.6/site-packages/tensorflow/python/util/dispatch.py\u001b[0m in \u001b[0;36mwrapper\u001b[0;34m(*args, **kwargs)\u001b[0m\n\u001b[1;32m    178\u001b[0m     \u001b[0;34m\"\"\"Call target, and fall back on dispatchers if there is a TypeError.\"\"\"\u001b[0m\u001b[0;34m\u001b[0m\u001b[0;34m\u001b[0m\u001b[0m\n\u001b[1;32m    179\u001b[0m     \u001b[0;32mtry\u001b[0m\u001b[0;34m:\u001b[0m\u001b[0;34m\u001b[0m\u001b[0;34m\u001b[0m\u001b[0m\n\u001b[0;32m--> 180\u001b[0;31m       \u001b[0;32mreturn\u001b[0m \u001b[0mtarget\u001b[0m\u001b[0;34m(\u001b[0m\u001b[0;34m*\u001b[0m\u001b[0margs\u001b[0m\u001b[0;34m,\u001b[0m \u001b[0;34m**\u001b[0m\u001b[0mkwargs\u001b[0m\u001b[0;34m)\u001b[0m\u001b[0;34m\u001b[0m\u001b[0;34m\u001b[0m\u001b[0m\n\u001b[0m\u001b[1;32m    181\u001b[0m     \u001b[0;32mexcept\u001b[0m \u001b[0;34m(\u001b[0m\u001b[0mTypeError\u001b[0m\u001b[0;34m,\u001b[0m \u001b[0mValueError\u001b[0m\u001b[0;34m)\u001b[0m\u001b[0;34m:\u001b[0m\u001b[0;34m\u001b[0m\u001b[0;34m\u001b[0m\u001b[0m\n\u001b[1;32m    182\u001b[0m       \u001b[0;31m# Note: convert_to_eager_tensor currently raises a ValueError, not a\u001b[0m\u001b[0;34m\u001b[0m\u001b[0;34m\u001b[0m\u001b[0;34m\u001b[0m\u001b[0m\n",
      "\u001b[0;32m/home/slavo/.local/lib/python3.6/site-packages/tensorflow/python/ops/math_ops.py\u001b[0m in \u001b[0;36mcast\u001b[0;34m(x, dtype, name)\u001b[0m\n\u001b[1;32m    787\u001b[0m       \u001b[0mx\u001b[0m \u001b[0;34m=\u001b[0m \u001b[0mops\u001b[0m\u001b[0;34m.\u001b[0m\u001b[0mconvert_to_tensor\u001b[0m\u001b[0;34m(\u001b[0m\u001b[0mx\u001b[0m\u001b[0;34m,\u001b[0m \u001b[0mname\u001b[0m\u001b[0;34m=\u001b[0m\u001b[0;34m\"x\"\u001b[0m\u001b[0;34m)\u001b[0m\u001b[0;34m\u001b[0m\u001b[0;34m\u001b[0m\u001b[0m\n\u001b[1;32m    788\u001b[0m       \u001b[0;32mif\u001b[0m \u001b[0mx\u001b[0m\u001b[0;34m.\u001b[0m\u001b[0mdtype\u001b[0m\u001b[0;34m.\u001b[0m\u001b[0mbase_dtype\u001b[0m \u001b[0;34m!=\u001b[0m \u001b[0mbase_type\u001b[0m\u001b[0;34m:\u001b[0m\u001b[0;34m\u001b[0m\u001b[0;34m\u001b[0m\u001b[0m\n\u001b[0;32m--> 789\u001b[0;31m         \u001b[0mx\u001b[0m \u001b[0;34m=\u001b[0m \u001b[0mgen_math_ops\u001b[0m\u001b[0;34m.\u001b[0m\u001b[0mcast\u001b[0m\u001b[0;34m(\u001b[0m\u001b[0mx\u001b[0m\u001b[0;34m,\u001b[0m \u001b[0mbase_type\u001b[0m\u001b[0;34m,\u001b[0m \u001b[0mname\u001b[0m\u001b[0;34m=\u001b[0m\u001b[0mname\u001b[0m\u001b[0;34m)\u001b[0m\u001b[0;34m\u001b[0m\u001b[0;34m\u001b[0m\u001b[0m\n\u001b[0m\u001b[1;32m    790\u001b[0m     \u001b[0;32mif\u001b[0m \u001b[0mx\u001b[0m\u001b[0;34m.\u001b[0m\u001b[0mdtype\u001b[0m\u001b[0;34m.\u001b[0m\u001b[0mis_complex\u001b[0m \u001b[0;32mand\u001b[0m \u001b[0mbase_type\u001b[0m\u001b[0;34m.\u001b[0m\u001b[0mis_floating\u001b[0m\u001b[0;34m:\u001b[0m\u001b[0;34m\u001b[0m\u001b[0;34m\u001b[0m\u001b[0m\n\u001b[1;32m    791\u001b[0m       \u001b[0mlogging\u001b[0m\u001b[0;34m.\u001b[0m\u001b[0mwarn\u001b[0m\u001b[0;34m(\u001b[0m\u001b[0;34m\"Casting complex to real discards imaginary part.\"\u001b[0m\u001b[0;34m)\u001b[0m\u001b[0;34m\u001b[0m\u001b[0;34m\u001b[0m\u001b[0m\n",
      "\u001b[0;32m/home/slavo/.local/lib/python3.6/site-packages/tensorflow/python/ops/gen_math_ops.py\u001b[0m in \u001b[0;36mcast\u001b[0;34m(x, DstT, Truncate, name)\u001b[0m\n\u001b[1;32m   1960\u001b[0m       _result = pywrap_tfe.TFE_Py_FastPathExecute(\n\u001b[1;32m   1961\u001b[0m         \u001b[0m_ctx\u001b[0m\u001b[0;34m.\u001b[0m\u001b[0m_context_handle\u001b[0m\u001b[0;34m,\u001b[0m \u001b[0mtld\u001b[0m\u001b[0;34m.\u001b[0m\u001b[0mdevice_name\u001b[0m\u001b[0;34m,\u001b[0m \u001b[0;34m\"Cast\"\u001b[0m\u001b[0;34m,\u001b[0m \u001b[0mname\u001b[0m\u001b[0;34m,\u001b[0m \u001b[0mtld\u001b[0m\u001b[0;34m.\u001b[0m\u001b[0mop_callbacks\u001b[0m\u001b[0;34m,\u001b[0m\u001b[0;34m\u001b[0m\u001b[0;34m\u001b[0m\u001b[0m\n\u001b[0;32m-> 1962\u001b[0;31m         x, \"DstT\", DstT, \"Truncate\", Truncate)\n\u001b[0m\u001b[1;32m   1963\u001b[0m       \u001b[0;32mreturn\u001b[0m \u001b[0m_result\u001b[0m\u001b[0;34m\u001b[0m\u001b[0;34m\u001b[0m\u001b[0m\n\u001b[1;32m   1964\u001b[0m     \u001b[0;32mexcept\u001b[0m \u001b[0m_core\u001b[0m\u001b[0;34m.\u001b[0m\u001b[0m_FallbackException\u001b[0m\u001b[0;34m:\u001b[0m\u001b[0;34m\u001b[0m\u001b[0;34m\u001b[0m\u001b[0m\n",
      "\u001b[0;31mKeyboardInterrupt\u001b[0m: "
     ]
    }
   ],
   "source": [
    "x, y = gen_train[0]\n",
    "\n",
    "for lr in np.logspace(-3, 0, 240):\n",
    "    K.set_value(model.optimizer.lr, lr)\n",
    "    loss = model.train_on_batch(x, y)\n",
    "    print(f'{lr:.3g}\\t{loss:.3g}')\n"
   ]
  },
  {
   "cell_type": "code",
   "execution_count": null,
   "metadata": {},
   "outputs": [],
   "source": []
  }
 ],
 "metadata": {
  "kernelspec": {
   "display_name": "Python 3",
   "language": "python",
   "name": "python3"
  },
  "language_info": {
   "codemirror_mode": {
    "name": "ipython",
    "version": 3
   },
   "file_extension": ".py",
   "mimetype": "text/x-python",
   "name": "python",
   "nbconvert_exporter": "python",
   "pygments_lexer": "ipython3",
   "version": "3.6.9"
  }
 },
 "nbformat": 4,
 "nbformat_minor": 4
}
